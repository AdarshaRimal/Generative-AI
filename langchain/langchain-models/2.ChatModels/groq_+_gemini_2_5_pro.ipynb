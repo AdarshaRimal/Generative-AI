{
  "nbformat": 4,
  "nbformat_minor": 0,
  "metadata": {
    "colab": {
      "provenance": []
    },
    "kernelspec": {
      "name": "python3",
      "display_name": "Python 3"
    },
    "language_info": {
      "name": "python"
    }
  },
  "cells": [
    {
      "cell_type": "code",
      "execution_count": 1,
      "metadata": {
        "colab": {
          "base_uri": "https://localhost:8080/"
        },
        "id": "hA1kCcNwuSuO",
        "outputId": "dcf0ae3a-c989-4a16-ea9e-140f5be27761"
      },
      "outputs": [
        {
          "output_type": "stream",
          "name": "stdout",
          "text": [
            "Collecting langchain-groq\n",
            "  Downloading langchain_groq-0.3.6-py3-none-any.whl.metadata (2.6 kB)\n",
            "Requirement already satisfied: langchain-core<1.0.0,>=0.3.68 in /usr/local/lib/python3.11/dist-packages (from langchain-groq) (0.3.72)\n",
            "Collecting groq<1,>=0.29.0 (from langchain-groq)\n",
            "  Downloading groq-0.30.0-py3-none-any.whl.metadata (16 kB)\n",
            "Requirement already satisfied: anyio<5,>=3.5.0 in /usr/local/lib/python3.11/dist-packages (from groq<1,>=0.29.0->langchain-groq) (4.9.0)\n",
            "Requirement already satisfied: distro<2,>=1.7.0 in /usr/local/lib/python3.11/dist-packages (from groq<1,>=0.29.0->langchain-groq) (1.9.0)\n",
            "Requirement already satisfied: httpx<1,>=0.23.0 in /usr/local/lib/python3.11/dist-packages (from groq<1,>=0.29.0->langchain-groq) (0.28.1)\n",
            "Requirement already satisfied: pydantic<3,>=1.9.0 in /usr/local/lib/python3.11/dist-packages (from groq<1,>=0.29.0->langchain-groq) (2.11.7)\n",
            "Requirement already satisfied: sniffio in /usr/local/lib/python3.11/dist-packages (from groq<1,>=0.29.0->langchain-groq) (1.3.1)\n",
            "Requirement already satisfied: typing-extensions<5,>=4.10 in /usr/local/lib/python3.11/dist-packages (from groq<1,>=0.29.0->langchain-groq) (4.14.1)\n",
            "Requirement already satisfied: langsmith>=0.3.45 in /usr/local/lib/python3.11/dist-packages (from langchain-core<1.0.0,>=0.3.68->langchain-groq) (0.4.8)\n",
            "Requirement already satisfied: tenacity!=8.4.0,<10.0.0,>=8.1.0 in /usr/local/lib/python3.11/dist-packages (from langchain-core<1.0.0,>=0.3.68->langchain-groq) (8.5.0)\n",
            "Requirement already satisfied: jsonpatch<2.0,>=1.33 in /usr/local/lib/python3.11/dist-packages (from langchain-core<1.0.0,>=0.3.68->langchain-groq) (1.33)\n",
            "Requirement already satisfied: PyYAML>=5.3 in /usr/local/lib/python3.11/dist-packages (from langchain-core<1.0.0,>=0.3.68->langchain-groq) (6.0.2)\n",
            "Requirement already satisfied: packaging>=23.2 in /usr/local/lib/python3.11/dist-packages (from langchain-core<1.0.0,>=0.3.68->langchain-groq) (25.0)\n",
            "Requirement already satisfied: idna>=2.8 in /usr/local/lib/python3.11/dist-packages (from anyio<5,>=3.5.0->groq<1,>=0.29.0->langchain-groq) (3.10)\n",
            "Requirement already satisfied: certifi in /usr/local/lib/python3.11/dist-packages (from httpx<1,>=0.23.0->groq<1,>=0.29.0->langchain-groq) (2025.7.14)\n",
            "Requirement already satisfied: httpcore==1.* in /usr/local/lib/python3.11/dist-packages (from httpx<1,>=0.23.0->groq<1,>=0.29.0->langchain-groq) (1.0.9)\n",
            "Requirement already satisfied: h11>=0.16 in /usr/local/lib/python3.11/dist-packages (from httpcore==1.*->httpx<1,>=0.23.0->groq<1,>=0.29.0->langchain-groq) (0.16.0)\n",
            "Requirement already satisfied: jsonpointer>=1.9 in /usr/local/lib/python3.11/dist-packages (from jsonpatch<2.0,>=1.33->langchain-core<1.0.0,>=0.3.68->langchain-groq) (3.0.0)\n",
            "Requirement already satisfied: orjson<4.0.0,>=3.9.14 in /usr/local/lib/python3.11/dist-packages (from langsmith>=0.3.45->langchain-core<1.0.0,>=0.3.68->langchain-groq) (3.11.1)\n",
            "Requirement already satisfied: requests<3,>=2 in /usr/local/lib/python3.11/dist-packages (from langsmith>=0.3.45->langchain-core<1.0.0,>=0.3.68->langchain-groq) (2.32.3)\n",
            "Requirement already satisfied: requests-toolbelt<2.0.0,>=1.0.0 in /usr/local/lib/python3.11/dist-packages (from langsmith>=0.3.45->langchain-core<1.0.0,>=0.3.68->langchain-groq) (1.0.0)\n",
            "Requirement already satisfied: zstandard<0.24.0,>=0.23.0 in /usr/local/lib/python3.11/dist-packages (from langsmith>=0.3.45->langchain-core<1.0.0,>=0.3.68->langchain-groq) (0.23.0)\n",
            "Requirement already satisfied: annotated-types>=0.6.0 in /usr/local/lib/python3.11/dist-packages (from pydantic<3,>=1.9.0->groq<1,>=0.29.0->langchain-groq) (0.7.0)\n",
            "Requirement already satisfied: pydantic-core==2.33.2 in /usr/local/lib/python3.11/dist-packages (from pydantic<3,>=1.9.0->groq<1,>=0.29.0->langchain-groq) (2.33.2)\n",
            "Requirement already satisfied: typing-inspection>=0.4.0 in /usr/local/lib/python3.11/dist-packages (from pydantic<3,>=1.9.0->groq<1,>=0.29.0->langchain-groq) (0.4.1)\n",
            "Requirement already satisfied: charset-normalizer<4,>=2 in /usr/local/lib/python3.11/dist-packages (from requests<3,>=2->langsmith>=0.3.45->langchain-core<1.0.0,>=0.3.68->langchain-groq) (3.4.2)\n",
            "Requirement already satisfied: urllib3<3,>=1.21.1 in /usr/local/lib/python3.11/dist-packages (from requests<3,>=2->langsmith>=0.3.45->langchain-core<1.0.0,>=0.3.68->langchain-groq) (2.5.0)\n",
            "Downloading langchain_groq-0.3.6-py3-none-any.whl (16 kB)\n",
            "Downloading groq-0.30.0-py3-none-any.whl (131 kB)\n",
            "\u001b[2K   \u001b[90m━━━━━━━━━━━━━━━━━━━━━━━━━━━━━━━━━━━━━━━━\u001b[0m \u001b[32m131.1/131.1 kB\u001b[0m \u001b[31m10.2 MB/s\u001b[0m eta \u001b[36m0:00:00\u001b[0m\n",
            "\u001b[?25hInstalling collected packages: groq, langchain-groq\n",
            "Successfully installed groq-0.30.0 langchain-groq-0.3.6\n"
          ]
        }
      ],
      "source": [
        "!pip install langchain-groq"
      ]
    },
    {
      "cell_type": "code",
      "source": [
        "from langchain_groq import ChatGroq\n",
        "\n",
        "llm = ChatGroq(\n",
        "    model=\"moonshotai/kimi-k2-instruct\",\n",
        "    temperature=0,\n",
        "    max_tokens=None,\n",
        "    max_retries=2,\n",
        ")\n",
        "for chunk in llm.stream('cristiano ronaldo vs lionel messi'):\n",
        "    print(chunk.content, end=\"\", flush=True)\n",
        "\n"
      ],
      "metadata": {
        "colab": {
          "base_uri": "https://localhost:8080/"
        },
        "id": "feFL11vEu6yV",
        "outputId": "fdaa41a5-05ac-405c-8100-668bd7a35814"
      },
      "execution_count": 8,
      "outputs": [
        {
          "output_type": "stream",
          "name": "stdout",
          "text": [
            "The Cristiano Ronaldo vs. Lionel Messi debate is the most polarizing argument in modern football. Both are generational outliers whose rivalry re-defined greatness. Here's a distilled, objective comparison across key dimensions:\n",
            "\n",
            "---\n",
            "\n",
            "### **1. Playing Style & Skillset**\n",
            "- **Messi**: Left-footed genius with unmatched close control, vision, and playmaking. Operates as a false 9/10, dictating tempo. Lower center of gravity enables elite dribbling in tight spaces.  \n",
            "- **Ronaldo**: Two-footed, aerially dominant, and physically explosive. Evolved from flashy winger to lethal poacher. Specializes in off-ball movement, finishing variety (headers, free-kicks, both feet).\n",
            "\n",
            "---\n",
            "\n",
            "### **2. Statistical Dominance (Club + Country)**\n",
            "| Metric          | Messi (as of 2023) | Ronaldo (as of 2023) |\n",
            "|-----------------|--------------------|------------------------|\n",
            "| **Goals**       | 821                | 850                    |\n",
            "| **Assists**     | 350+               | 230+                   |\n",
            "| **Trophies**    | 42 (incl. 4 UCL)   | 34 (incl. 5 UCL)       |\n",
            "| **Ballons d'Or**| 7                  | 5                      |\n",
            "\n",
            "- **Messi** leads in playmaking metrics (chances created, through balls).  \n",
            "- **Ronaldo** leads in knockout-stage UCL goals (67 vs. Messi’s 49) and international goals (128 vs. 106).\n",
            "\n",
            "---\n",
            "\n",
            "### **3. Peak Seasons**\n",
            "- **Messi 2011-12**: 73 goals + 29 assists (91 total). Unprecedented G+A in a calendar year.  \n",
            "- **Ronaldo 2014-15**: 61 goals + 22 assists. Only player to score 50+ goals in 6 consecutive seasons.\n",
            "\n",
            "---\n",
            "\n",
            "### **4. Big-Match Impact**\n",
            "- **Messi**: 26 goals vs. Real Madrid (El Clásico record), 13 vs. English \"Big 6\".  \n",
            "- **Ronaldo**: 140 knockout-stage goals (UCL), 22 vs. Atlético Madrid alone.  \n",
            "- **World Cup**: Messi’s 2022 win (7 goals, 3 assists) vs. Ronaldo’s 2022 quarter-final exit. Messi’s 2022 final performance (2 goals, 1 assist) is iconic.\n",
            "\n",
            "---\n",
            "\n",
            "### **5. Longevity & Adaptability**\n",
            "- **Ronaldo**: Thrived in 3 leagues (Premier League, La Liga, Serie A) with 5 UCLs across 2 clubs.  \n",
            "- **Messi**: Dominated La Liga for 17 years, then adapted to Ligue 1 (2022-23: 16 goals + 16 assists) and MLS (2023: 1.5 G+A per 90).\n",
            "\n",
            "---\n",
            "\n",
            "### **6. Intangibles**\n",
            "- **Leadership**: Ronaldo’s vocal, relentless drive vs. Messi’s quiet, lead-by-example style.  \n",
            "- **Clutch**: Ronaldo’s 2018 UCL bicycle kick vs. Juventus; Messi’s 2012 5-goal performance vs. Bayer Leverkusen.  \n",
            "- **Cultural Impact**: Ronaldo’s global brand (1B+ social media followers) vs. Messi’s \"relatable genius\" aura.\n",
            "\n",
            "---\n",
            "\n",
            "### **Verdict**\n",
            "- **Team Player/Playmaker**: Messi.  \n",
            "- **Goalscoring Machine**: Ronaldo.  \n",
            "- **GOAT Debate**: Subjective. Messi’s 2022 World Cup tilted narratives, but Ronaldo’s UCL pedigree remains unmatched. Both are irreplaceable archetypes—choose based on preference: artistry vs. athleticism.\n",
            "\n",
            "The truth? Football won. We witnessed two aliens in the same era."
          ]
        }
      ]
    },
    {
      "cell_type": "code",
      "source": [
        "!pip install -U langchain-google-genai"
      ],
      "metadata": {
        "colab": {
          "base_uri": "https://localhost:8080/",
          "height": 1000
        },
        "id": "xaGluImfUswC",
        "outputId": "c20087c1-ec12-4809-bf9b-df40897fdb10"
      },
      "execution_count": 14,
      "outputs": [
        {
          "output_type": "stream",
          "name": "stdout",
          "text": [
            "Collecting langchain-google-genai\n",
            "  Downloading langchain_google_genai-2.1.8-py3-none-any.whl.metadata (7.0 kB)\n",
            "Collecting filetype<2.0.0,>=1.2.0 (from langchain-google-genai)\n",
            "  Downloading filetype-1.2.0-py2.py3-none-any.whl.metadata (6.5 kB)\n",
            "Collecting google-ai-generativelanguage<0.7.0,>=0.6.18 (from langchain-google-genai)\n",
            "  Downloading google_ai_generativelanguage-0.6.18-py3-none-any.whl.metadata (9.8 kB)\n",
            "Requirement already satisfied: langchain-core<0.4.0,>=0.3.68 in /usr/local/lib/python3.11/dist-packages (from langchain-google-genai) (0.3.72)\n",
            "Requirement already satisfied: pydantic<3,>=2 in /usr/local/lib/python3.11/dist-packages (from langchain-google-genai) (2.11.7)\n",
            "Requirement already satisfied: google-api-core!=2.0.*,!=2.1.*,!=2.10.*,!=2.2.*,!=2.3.*,!=2.4.*,!=2.5.*,!=2.6.*,!=2.7.*,!=2.8.*,!=2.9.*,<3.0.0,>=1.34.1 in /usr/local/lib/python3.11/dist-packages (from google-api-core[grpc]!=2.0.*,!=2.1.*,!=2.10.*,!=2.2.*,!=2.3.*,!=2.4.*,!=2.5.*,!=2.6.*,!=2.7.*,!=2.8.*,!=2.9.*,<3.0.0,>=1.34.1->google-ai-generativelanguage<0.7.0,>=0.6.18->langchain-google-genai) (2.25.1)\n",
            "Requirement already satisfied: google-auth!=2.24.0,!=2.25.0,<3.0.0,>=2.14.1 in /usr/local/lib/python3.11/dist-packages (from google-ai-generativelanguage<0.7.0,>=0.6.18->langchain-google-genai) (2.38.0)\n",
            "Requirement already satisfied: proto-plus<2.0.0,>=1.22.3 in /usr/local/lib/python3.11/dist-packages (from google-ai-generativelanguage<0.7.0,>=0.6.18->langchain-google-genai) (1.26.1)\n",
            "Requirement already satisfied: protobuf!=4.21.0,!=4.21.1,!=4.21.2,!=4.21.3,!=4.21.4,!=4.21.5,<7.0.0,>=3.20.2 in /usr/local/lib/python3.11/dist-packages (from google-ai-generativelanguage<0.7.0,>=0.6.18->langchain-google-genai) (5.29.5)\n",
            "Requirement already satisfied: langsmith>=0.3.45 in /usr/local/lib/python3.11/dist-packages (from langchain-core<0.4.0,>=0.3.68->langchain-google-genai) (0.4.8)\n",
            "Requirement already satisfied: tenacity!=8.4.0,<10.0.0,>=8.1.0 in /usr/local/lib/python3.11/dist-packages (from langchain-core<0.4.0,>=0.3.68->langchain-google-genai) (8.5.0)\n",
            "Requirement already satisfied: jsonpatch<2.0,>=1.33 in /usr/local/lib/python3.11/dist-packages (from langchain-core<0.4.0,>=0.3.68->langchain-google-genai) (1.33)\n",
            "Requirement already satisfied: PyYAML>=5.3 in /usr/local/lib/python3.11/dist-packages (from langchain-core<0.4.0,>=0.3.68->langchain-google-genai) (6.0.2)\n",
            "Requirement already satisfied: typing-extensions>=4.7 in /usr/local/lib/python3.11/dist-packages (from langchain-core<0.4.0,>=0.3.68->langchain-google-genai) (4.14.1)\n",
            "Requirement already satisfied: packaging>=23.2 in /usr/local/lib/python3.11/dist-packages (from langchain-core<0.4.0,>=0.3.68->langchain-google-genai) (25.0)\n",
            "Requirement already satisfied: annotated-types>=0.6.0 in /usr/local/lib/python3.11/dist-packages (from pydantic<3,>=2->langchain-google-genai) (0.7.0)\n",
            "Requirement already satisfied: pydantic-core==2.33.2 in /usr/local/lib/python3.11/dist-packages (from pydantic<3,>=2->langchain-google-genai) (2.33.2)\n",
            "Requirement already satisfied: typing-inspection>=0.4.0 in /usr/local/lib/python3.11/dist-packages (from pydantic<3,>=2->langchain-google-genai) (0.4.1)\n",
            "Requirement already satisfied: googleapis-common-protos<2.0.0,>=1.56.2 in /usr/local/lib/python3.11/dist-packages (from google-api-core!=2.0.*,!=2.1.*,!=2.10.*,!=2.2.*,!=2.3.*,!=2.4.*,!=2.5.*,!=2.6.*,!=2.7.*,!=2.8.*,!=2.9.*,<3.0.0,>=1.34.1->google-api-core[grpc]!=2.0.*,!=2.1.*,!=2.10.*,!=2.2.*,!=2.3.*,!=2.4.*,!=2.5.*,!=2.6.*,!=2.7.*,!=2.8.*,!=2.9.*,<3.0.0,>=1.34.1->google-ai-generativelanguage<0.7.0,>=0.6.18->langchain-google-genai) (1.70.0)\n",
            "Requirement already satisfied: requests<3.0.0,>=2.18.0 in /usr/local/lib/python3.11/dist-packages (from google-api-core!=2.0.*,!=2.1.*,!=2.10.*,!=2.2.*,!=2.3.*,!=2.4.*,!=2.5.*,!=2.6.*,!=2.7.*,!=2.8.*,!=2.9.*,<3.0.0,>=1.34.1->google-api-core[grpc]!=2.0.*,!=2.1.*,!=2.10.*,!=2.2.*,!=2.3.*,!=2.4.*,!=2.5.*,!=2.6.*,!=2.7.*,!=2.8.*,!=2.9.*,<3.0.0,>=1.34.1->google-ai-generativelanguage<0.7.0,>=0.6.18->langchain-google-genai) (2.32.3)\n",
            "Requirement already satisfied: grpcio<2.0.0,>=1.33.2 in /usr/local/lib/python3.11/dist-packages (from google-api-core[grpc]!=2.0.*,!=2.1.*,!=2.10.*,!=2.2.*,!=2.3.*,!=2.4.*,!=2.5.*,!=2.6.*,!=2.7.*,!=2.8.*,!=2.9.*,<3.0.0,>=1.34.1->google-ai-generativelanguage<0.7.0,>=0.6.18->langchain-google-genai) (1.74.0)\n",
            "Requirement already satisfied: grpcio-status<2.0.0,>=1.33.2 in /usr/local/lib/python3.11/dist-packages (from google-api-core[grpc]!=2.0.*,!=2.1.*,!=2.10.*,!=2.2.*,!=2.3.*,!=2.4.*,!=2.5.*,!=2.6.*,!=2.7.*,!=2.8.*,!=2.9.*,<3.0.0,>=1.34.1->google-ai-generativelanguage<0.7.0,>=0.6.18->langchain-google-genai) (1.71.2)\n",
            "Requirement already satisfied: cachetools<6.0,>=2.0.0 in /usr/local/lib/python3.11/dist-packages (from google-auth!=2.24.0,!=2.25.0,<3.0.0,>=2.14.1->google-ai-generativelanguage<0.7.0,>=0.6.18->langchain-google-genai) (5.5.2)\n",
            "Requirement already satisfied: pyasn1-modules>=0.2.1 in /usr/local/lib/python3.11/dist-packages (from google-auth!=2.24.0,!=2.25.0,<3.0.0,>=2.14.1->google-ai-generativelanguage<0.7.0,>=0.6.18->langchain-google-genai) (0.4.2)\n",
            "Requirement already satisfied: rsa<5,>=3.1.4 in /usr/local/lib/python3.11/dist-packages (from google-auth!=2.24.0,!=2.25.0,<3.0.0,>=2.14.1->google-ai-generativelanguage<0.7.0,>=0.6.18->langchain-google-genai) (4.9.1)\n",
            "Requirement already satisfied: jsonpointer>=1.9 in /usr/local/lib/python3.11/dist-packages (from jsonpatch<2.0,>=1.33->langchain-core<0.4.0,>=0.3.68->langchain-google-genai) (3.0.0)\n",
            "Requirement already satisfied: httpx<1,>=0.23.0 in /usr/local/lib/python3.11/dist-packages (from langsmith>=0.3.45->langchain-core<0.4.0,>=0.3.68->langchain-google-genai) (0.28.1)\n",
            "Requirement already satisfied: orjson<4.0.0,>=3.9.14 in /usr/local/lib/python3.11/dist-packages (from langsmith>=0.3.45->langchain-core<0.4.0,>=0.3.68->langchain-google-genai) (3.11.1)\n",
            "Requirement already satisfied: requests-toolbelt<2.0.0,>=1.0.0 in /usr/local/lib/python3.11/dist-packages (from langsmith>=0.3.45->langchain-core<0.4.0,>=0.3.68->langchain-google-genai) (1.0.0)\n",
            "Requirement already satisfied: zstandard<0.24.0,>=0.23.0 in /usr/local/lib/python3.11/dist-packages (from langsmith>=0.3.45->langchain-core<0.4.0,>=0.3.68->langchain-google-genai) (0.23.0)\n",
            "Requirement already satisfied: anyio in /usr/local/lib/python3.11/dist-packages (from httpx<1,>=0.23.0->langsmith>=0.3.45->langchain-core<0.4.0,>=0.3.68->langchain-google-genai) (4.9.0)\n",
            "Requirement already satisfied: certifi in /usr/local/lib/python3.11/dist-packages (from httpx<1,>=0.23.0->langsmith>=0.3.45->langchain-core<0.4.0,>=0.3.68->langchain-google-genai) (2025.7.14)\n",
            "Requirement already satisfied: httpcore==1.* in /usr/local/lib/python3.11/dist-packages (from httpx<1,>=0.23.0->langsmith>=0.3.45->langchain-core<0.4.0,>=0.3.68->langchain-google-genai) (1.0.9)\n",
            "Requirement already satisfied: idna in /usr/local/lib/python3.11/dist-packages (from httpx<1,>=0.23.0->langsmith>=0.3.45->langchain-core<0.4.0,>=0.3.68->langchain-google-genai) (3.10)\n",
            "Requirement already satisfied: h11>=0.16 in /usr/local/lib/python3.11/dist-packages (from httpcore==1.*->httpx<1,>=0.23.0->langsmith>=0.3.45->langchain-core<0.4.0,>=0.3.68->langchain-google-genai) (0.16.0)\n",
            "Requirement already satisfied: pyasn1<0.7.0,>=0.6.1 in /usr/local/lib/python3.11/dist-packages (from pyasn1-modules>=0.2.1->google-auth!=2.24.0,!=2.25.0,<3.0.0,>=2.14.1->google-ai-generativelanguage<0.7.0,>=0.6.18->langchain-google-genai) (0.6.1)\n",
            "Requirement already satisfied: charset-normalizer<4,>=2 in /usr/local/lib/python3.11/dist-packages (from requests<3.0.0,>=2.18.0->google-api-core!=2.0.*,!=2.1.*,!=2.10.*,!=2.2.*,!=2.3.*,!=2.4.*,!=2.5.*,!=2.6.*,!=2.7.*,!=2.8.*,!=2.9.*,<3.0.0,>=1.34.1->google-api-core[grpc]!=2.0.*,!=2.1.*,!=2.10.*,!=2.2.*,!=2.3.*,!=2.4.*,!=2.5.*,!=2.6.*,!=2.7.*,!=2.8.*,!=2.9.*,<3.0.0,>=1.34.1->google-ai-generativelanguage<0.7.0,>=0.6.18->langchain-google-genai) (3.4.2)\n",
            "Requirement already satisfied: urllib3<3,>=1.21.1 in /usr/local/lib/python3.11/dist-packages (from requests<3.0.0,>=2.18.0->google-api-core!=2.0.*,!=2.1.*,!=2.10.*,!=2.2.*,!=2.3.*,!=2.4.*,!=2.5.*,!=2.6.*,!=2.7.*,!=2.8.*,!=2.9.*,<3.0.0,>=1.34.1->google-api-core[grpc]!=2.0.*,!=2.1.*,!=2.10.*,!=2.2.*,!=2.3.*,!=2.4.*,!=2.5.*,!=2.6.*,!=2.7.*,!=2.8.*,!=2.9.*,<3.0.0,>=1.34.1->google-ai-generativelanguage<0.7.0,>=0.6.18->langchain-google-genai) (2.5.0)\n",
            "Requirement already satisfied: sniffio>=1.1 in /usr/local/lib/python3.11/dist-packages (from anyio->httpx<1,>=0.23.0->langsmith>=0.3.45->langchain-core<0.4.0,>=0.3.68->langchain-google-genai) (1.3.1)\n",
            "Downloading langchain_google_genai-2.1.8-py3-none-any.whl (47 kB)\n",
            "\u001b[2K   \u001b[90m━━━━━━━━━━━━━━━━━━━━━━━━━━━━━━━━━━━━━━━━\u001b[0m \u001b[32m47.8/47.8 kB\u001b[0m \u001b[31m3.5 MB/s\u001b[0m eta \u001b[36m0:00:00\u001b[0m\n",
            "\u001b[?25hDownloading filetype-1.2.0-py2.py3-none-any.whl (19 kB)\n",
            "Downloading google_ai_generativelanguage-0.6.18-py3-none-any.whl (1.4 MB)\n",
            "\u001b[2K   \u001b[90m━━━━━━━━━━━━━━━━━━━━━━━━━━━━━━━━━━━━━━━━\u001b[0m \u001b[32m1.4/1.4 MB\u001b[0m \u001b[31m54.9 MB/s\u001b[0m eta \u001b[36m0:00:00\u001b[0m\n",
            "\u001b[?25hInstalling collected packages: filetype, google-ai-generativelanguage, langchain-google-genai\n",
            "  Attempting uninstall: google-ai-generativelanguage\n",
            "    Found existing installation: google-ai-generativelanguage 0.6.15\n",
            "    Uninstalling google-ai-generativelanguage-0.6.15:\n",
            "      Successfully uninstalled google-ai-generativelanguage-0.6.15\n",
            "\u001b[31mERROR: pip's dependency resolver does not currently take into account all the packages that are installed. This behaviour is the source of the following dependency conflicts.\n",
            "google-generativeai 0.8.5 requires google-ai-generativelanguage==0.6.15, but you have google-ai-generativelanguage 0.6.18 which is incompatible.\u001b[0m\u001b[31m\n",
            "\u001b[0mSuccessfully installed filetype-1.2.0 google-ai-generativelanguage-0.6.18 langchain-google-genai-2.1.8\n"
          ]
        },
        {
          "output_type": "display_data",
          "data": {
            "application/vnd.colab-display-data+json": {
              "pip_warning": {
                "packages": [
                  "google"
                ]
              },
              "id": "1087c2bcc2394b22a11e9733d979580d"
            }
          },
          "metadata": {}
        }
      ]
    },
    {
      "cell_type": "code",
      "source": [
        "from langchain_google_genai import ChatGoogleGenerativeAI\n",
        "from langchain_core.messages import HumanMessage\n",
        "\n",
        "llm = ChatGoogleGenerativeAI(model=\"gemini-2.5-pro\")\n",
        "\n",
        "messages = [HumanMessage(content=\"all prime minister of nepal\")]\n",
        "\n",
        "# Stream the response token-by-token\n",
        "for chunk in llm.stream(messages):\n",
        "    print(chunk.content, end=\"\", flush=True)\n"
      ],
      "metadata": {
        "colab": {
          "base_uri": "https://localhost:8080/"
        },
        "id": "Rftgx4wvVUYW",
        "outputId": "a87ea850-f825-4811-b92d-3d5577cd0ccb"
      },
      "execution_count": 9,
      "outputs": [
        {
          "output_type": "stream",
          "name": "stdout",
          "text": [
            "Of course. The office of the Prime Minister of Nepal has a long and complex history, evolving from the position of *Mukhtiyar* under the Shah Kings to the hereditary Rana dynasty, and finally to the democratically elected head of government in the modern era.\n",
            "\n",
            "Due to political instability, Nepal has had many Prime Ministers, often serving multiple non-consecutive terms.\n",
            "\n",
            "Here is a comprehensive list, divided by historical periods for clarity.\n",
            "\n",
            "### Current Prime Minister of Nepal\n",
            "\n",
            "| Name | Took Office | Political Party |\n",
            "| :--- | :--- | :--- |\n",
            "| **K.P. Sharma Oli** | July 15, 2024 | Communist Party of Nepal (Unified Marxist–Leninist) |\n",
            "\n",
            "---\n",
            "\n",
            "### Period: Federal Democratic Republic of Nepal (2008 – Present)\n",
            "\n",
            "This era began after the abolition of the 240-year-old monarchy.\n",
            "\n",
            "| # | Name | Term of Office | Political Party |\n",
            "|---|:---|:---|:---|\n",
            "| 1 | **Pushpa Kamal Dahal** (\"Prachanda\") | 2008 – 2009 | CPN (Maoist) |\n",
            "| 2 | **Madhav Kumar Nepal** | 2009 – 2011 | CPN (Unified Marxist–Leninist) |\n",
            "| 3 | **Jhala Nath Khanal** | 2011 – 2011 | CPN (Unified Marxist–Leninist) |\n",
            "| 4 | **Baburam Bhattarai** | 2011 – 2013 | CPN (Maoist) |\n",
            "| - | *Khil Raj Regmi (Interim)* | 2013 – 2014 | Independent (Chief Justice) |\n",
            "| 5 | **Sushil Koirala** | 2014 – 2015 | Nepali Congress |\n",
            "| 6 | **K.P. Sharma Oli** | 2015 – 2016 | CPN (Unified Marxist–Leninist) |\n",
            "| 7 | **Pushpa Kamal Dahal** (\"Prachanda\") | 2016 – 2017 | CPN (Maoist Centre) |\n",
            "| 8 | **Sher Bahadur Deuba** | 2017 – 2018 | Nepali Congress |\n",
            "| 9 | **K.P. Sharma Oli** | 2018 – 2021 | Nepal Communist Party (NCP), later CPN (UML) |\n",
            "| 10| **Sher Bahadur Deuba** | 2021 – 2022 | Nepali Congress |\n",
            "| 11| **Pushpa Kamal Dahal** (\"Prachanda\") | 2022 – 2024 | CPN (Maoist Centre) |\n",
            "| 12| **K.P. Sharma Oli** | 2024 – Present | CPN (Unified Marxist–Leninist) |\n",
            "\n",
            "---\n",
            "\n",
            "### Period: Constitutional Monarchy (1990 – 2008)\n",
            "\n",
            "This period began after the 1990 People's Movement restored multiparty democracy. It was marked by frequent changes in government.\n",
            "\n",
            "| # | Name | Term of Office | Political Party |\n",
            "|---|:---|:---|:---|\n",
            "| 1 | **Krishna Prasad Bhattarai** | 1990 – 1991 | Nepali Congress |\n",
            "| 2 | **Girija Prasad Koirala** | 1991 – 1994 | Nepali Congress |\n",
            "| 3 | **Man Mohan Adhikari** | 1994 – 1995 | CPN (Unified Marxist–Leninist) |\n",
            "| 4 | **Sher Bahadur Deuba** | 1995 – 1997 | Nepali Congress |\n",
            "| 5 | **Lokendra Bahadur Chand** | 1997 – 1997 | Rastriya Prajatantra Party |\n",
            "| 6 | **Surya Bahadur Thapa** | 1997 – 1998 | Rastriya Prajatantra Party |\n",
            "| 7 | **Girija Prasad Koirala** | 1998 – 1999 | Nepali Congress |\n",
            "| 8 | **Krishna Prasad Bhattarai** | 1999 – 2000 | Nepali Congress |\n",
            "| 9 | **Girija Prasad Koirala** | 2000 – 2001 | Nepali Congress |\n",
            "| 10| **Sher Bahadur Deuba** | 2001 – 2002 | Nepali Congress |\n",
            "| - | *King Gyanendra (Direct Rule)* | 2002 – 2002 | - |\n",
            "| 11| **Lokendra Bahadur Chand** | 2002 – 2003 | Rastriya Prajatantra Party |\n",
            "| 12| **Surya Bahadur Thapa** | 2003 – 2004 | Rastriya Prajatantra Party |\n",
            "| 13| **Sher Bahadur Deuba** | 2004 – 2005 | Nepali Congress (Democratic) |\n",
            "| - | *King Gyanendra (Direct Rule)* | 2005 – 2006 | - |\n",
            "| 14| **Girija Prasad Koirala** | 2006 – 2008 | Nepali Congress |\n",
            "\n",
            "---\n",
            "\n",
            "### Period: Panchayat System (1960 – 1990)\n",
            "\n",
            "A period of \"partyless\" absolute monarchy where the King appointed the Prime Minister.\n",
            "\n",
            "*   Tulsi Giri\n",
            "*   Surya Bahadur Thapa\n",
            "*   Kirti Nidhi Bista\n",
            "*   Nagendra Prasad Rijal\n",
            "*   Marich Man Singh Shrestha\n",
            "*   Lokendra Bahadur Chand\n",
            "\n",
            "---\n",
            "\n",
            "### Period: Transitional Era (1951 – 1960)\n",
            "\n",
            "After the fall of the Rana dynasty and before the Panchayat system.\n",
            "\n",
            "*   **Mohan Shumsher JBR** (Last Rana PM, continued briefly)\n",
            "*   **Matrika Prasad Koirala** (First commoner to become PM)\n",
            "*   **Tanka Prasad Acharya**\n",
            "*   **Kunwar Inderjit Singh**\n",
            "*   **Subarna Shumsher Rana**\n",
            "*   **Bishweshwar Prasad Koirala**\n",
            "\n",
            "---\n",
            "\n",
            "### Period: Rana Dynasty (1846 – 1951)\n",
            "\n",
            "The Prime Ministership was a hereditary position held by the Rana family, with the title **Shree 3 Maharaj**. The King (*Shree 5 Maharaj*) was a figurehead.\n",
            "\n",
            "1.  **Jung Bahadur Rana**\n",
            "2.  **Bam Bahadur Kunwar Rana**\n",
            "3.  **Ranodip Singh Kunwar**\n",
            "4.  **Bir Shumsher JBR**\n",
            "5.  **Dev Shumsher JBR**\n",
            "6.  **Chandra Shumsher JBR**\n",
            "7.  **Bhim Shumsher JBR**\n",
            "8.  **Juddha Shumsher JBR**\n",
            "9.  **Padma Shumsher JBR**\n",
            "10. **Mohan Shumsher JBR**\n",
            "\n",
            "---\n",
            "\n",
            "### Early Prime Ministers (as *Mukhtiyar* or *Prime Minister*)\n",
            "\n",
            "Before the Ranas, the chief authority was often called the *Mukhtiyar*.\n",
            "\n",
            "*   **Bhimsen Thapa** (Considered the first \"Prime Minister\" of Nepal)\n",
            "*   **Ranga Nath Poudyal**\n",
            "*   **Fateh Jung Shah**\n",
            "*   **Mathabar Singh Thapa**"
          ]
        }
      ]
    },
    {
      "cell_type": "code",
      "source": [
        "from langchain_groq import ChatGroq\n",
        "\n",
        "llm = ChatGroq(\n",
        "    model=\"deepseek-r1-distill-llama-70b\",\n",
        "    temperature=0,\n",
        "    max_tokens=None,\n",
        "    max_retries=2,\n",
        ")\n",
        "for chunk in llm.stream('all prime minister of nepal'):\n",
        "    print(chunk.content, end=\"\", flush=True)\n"
      ],
      "metadata": {
        "colab": {
          "base_uri": "https://localhost:8080/"
        },
        "id": "HlwKqytBX3AA",
        "outputId": "7e8b42da-c249-4bae-d93b-f363bd7e7c83"
      },
      "execution_count": 7,
      "outputs": [
        {
          "output_type": "stream",
          "name": "stdout",
          "text": [
            "<think>\n",
            "\n",
            "</think>\n",
            "\n",
            "As of my last update in July 2024, Nepal has had several Prime Ministers since the establishment of the modern political system. Below is a list of some of the notable Prime Ministers of Nepal:\n",
            "\n",
            "1. **Bhimsen Thapa** (1806–1837) - One of the most influential early Prime Ministers of Nepal.\n",
            "2. **Jang Bahadur Rana** (1846–1877) - Founder of the Rana dynasty, which ruled Nepal for over a century.\n",
            "3. **Chandra Shumsher JBR** (1901–1929) - A prominent Rana Prime Minister known for modernizing Nepal.\n",
            "4. **Bhimsen Thapa (son)** (1932–1932) - Briefly served as Prime Minister.\n",
            "5. **Tribhuvan Bir Bikram Shah** (1951–1952) - King Tribhuvan also served as Prime Minister during a brief period.\n",
            "6. **Matrika Prasad Koirala** (1951–1952) - First elected Prime Minister of Nepal.\n",
            "7. **Bishweshwar Prasad Koirala** (1959–1960) - A key figure in Nepal's democratic movement.\n",
            "8. **Surya Bahadur Thapa** (1963–1964, 1979–1983, 1997–1998) - Served multiple terms as Prime Minister.\n",
            "9. **Kirti Nidhi Bista** (1964–1965, 1971–1973) - Served during the Panchayat era.\n",
            "10. **Lokendra Bahadur Chand** (1983–1986, 1990) - Served multiple terms.\n",
            "11. **Marich Man Singh Shrestha** (1986–1990) - Served during the Panchayat era.\n",
            "12. **Krishna Prasad Bhattarai** (1990–1991, 1999–2001) - Served during the transition to democracy.\n",
            "13. **Girija Prasad Koirala** (1991–1994, 1998–1999, 2006–2008) - A key figure in Nepal's democratic movement.\n",
            "14. **Man Mohan Adhikari** (1994–1995) - First communist Prime Minister of Nepal.\n",
            "15. **Sher Bahadur Deuba** (1995–1997, 2001–2002, 2004–2005, 2017–2022) - Served multiple terms.\n",
            "16. **Lokendra Bahadur Chand** (1990, 1998–1999) - Served multiple terms.\n",
            "17. **Surya Bahadur Thapa** (1963–1964, 1979–1983, 1997–1998) - Served multiple terms.\n",
            "18. **Pushpa Kamal Dahal (Prachanda)** (2008–2009, 2016–2017) - Key leader of the Maoist movement.\n",
            "19. **Madhav Kumar Nepal** (2009–2011) - Served as Prime Minister during the transition period.\n",
            "20. **Baburam Bhattarai** (2011–2013) - Key figure in the Maoist movement.\n",
            "21. **Khil Raj Regmi** (2013–2014) - Served as Chief Justice and Prime Minister during the transition.\n",
            "22. **Sushil Koirala** (2014–2015) - Served during the post-earthquake reconstruction period.\n",
            "23. **KP Sharma Oli** (2015–2016, 2018–2021) - Served two terms as Prime Minister.\n",
            "24. **Sher Bahadur Deuba** (2021–2023) - Served as Prime Minister until the 2023 elections.\n",
            "25. **Pushpa Kamal Dahal (Prachanda)** (2023–present) - Current Prime Minister of Nepal.\n",
            "\n",
            "This list may not be exhaustive, and the political landscape of Nepal has evolved significantly over the years, with frequent changes in leadership. For the most up-to-date information, please refer to recent sources."
          ]
        }
      ]
    }
  ]
}