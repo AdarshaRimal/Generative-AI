{
  "nbformat": 4,
  "nbformat_minor": 0,
  "metadata": {
    "colab": {
      "provenance": []
    },
    "kernelspec": {
      "name": "python3",
      "display_name": "Python 3"
    },
    "language_info": {
      "name": "python"
    }
  },
  "cells": [
    {
      "cell_type": "code",
      "source": [
        "import random\n",
        "\n",
        "class NakliLLM:\n",
        "\n",
        "  def __init__(self):\n",
        "    print('LLM created')\n",
        "\n",
        "  def predict(self, prompt):\n",
        "\n",
        "    response_list = [\n",
        "        'Delhi is the capital of India',\n",
        "        'IPL is a cricket league',\n",
        "        'AI stands for Artificial Intelligence'\n",
        "    ]\n",
        "\n",
        "    return {'response': random.choice(response_list)}"
      ],
      "metadata": {
        "id": "g2w84DVb-zZr"
      },
      "execution_count": 1,
      "outputs": []
    },
    {
      "cell_type": "code",
      "source": [
        "class NakliPromptTemplate:\n",
        "\n",
        "  def __init__(self, template, input_variables):\n",
        "    self.template = template\n",
        "    self.input_variables = input_variables\n",
        "\n",
        "  def format(self, input_dict):\n",
        "    return self.template.format(**input_dict)"
      ],
      "metadata": {
        "id": "LSyL1BICA_GY"
      },
      "execution_count": 2,
      "outputs": []
    },
    {
      "cell_type": "code",
      "source": [
        "template = NakliPromptTemplate(\n",
        "    template='Write a {length} poem about {topic}',\n",
        "    input_variables=['length', 'topic']\n",
        ")"
      ],
      "metadata": {
        "id": "0R8IWZ2uBZxS"
      },
      "execution_count": 3,
      "outputs": []
    },
    {
      "cell_type": "code",
      "source": [
        "prompt = template.format({'length':'short','topic':'india'})"
      ],
      "metadata": {
        "id": "DtyZLAZkBig6"
      },
      "execution_count": 4,
      "outputs": []
    },
    {
      "cell_type": "code",
      "source": [
        "llm = NakliLLM()"
      ],
      "metadata": {
        "colab": {
          "base_uri": "https://localhost:8080/"
        },
        "id": "KZ8JclUYBmxC",
        "outputId": "a3935ada-e5ba-4f62-807c-a2f73a50b921"
      },
      "execution_count": 5,
      "outputs": [
        {
          "output_type": "stream",
          "name": "stdout",
          "text": [
            "LLM created\n"
          ]
        }
      ]
    },
    {
      "cell_type": "code",
      "source": [
        "llm.predict(prompt)"
      ],
      "metadata": {
        "colab": {
          "base_uri": "https://localhost:8080/"
        },
        "id": "hFCYQXUwB-be",
        "outputId": "56d18231-fe47-4c0c-9edb-7485d651357d"
      },
      "execution_count": 6,
      "outputs": [
        {
          "output_type": "execute_result",
          "data": {
            "text/plain": [
              "{'response': 'IPL is a cricket league'}"
            ]
          },
          "metadata": {},
          "execution_count": 6
        }
      ]
    },
    {
      "cell_type": "code",
      "source": [
        "class NakliLLMChain:\n",
        "\n",
        "  def __init__(self, llm, prompt):\n",
        "    self.llm = llm\n",
        "    self.prompt = prompt\n",
        "\n",
        "  def run(self, input_dict):\n",
        "\n",
        "    final_prompt = self.prompt.format(input_dict)\n",
        "    result = self.llm.predict(final_prompt)\n",
        "\n",
        "    return result['response']\n"
      ],
      "metadata": {
        "id": "SGzmKwmDDOfe"
      },
      "execution_count": 7,
      "outputs": []
    },
    {
      "cell_type": "code",
      "source": [
        "template = NakliPromptTemplate(\n",
        "    template='Write a {length} poem about {topic}',\n",
        "    input_variables=['length', 'topic']\n",
        ")"
      ],
      "metadata": {
        "id": "v2OAM5RLE0YS"
      },
      "execution_count": 8,
      "outputs": []
    },
    {
      "cell_type": "code",
      "source": [
        "llm = NakliLLM()"
      ],
      "metadata": {
        "colab": {
          "base_uri": "https://localhost:8080/"
        },
        "id": "uOSTUUlrE3l-",
        "outputId": "006184a0-1655-4ad0-af9c-eedc6cf27198"
      },
      "execution_count": 9,
      "outputs": [
        {
          "output_type": "stream",
          "name": "stdout",
          "text": [
            "LLM created\n"
          ]
        }
      ]
    },
    {
      "cell_type": "code",
      "source": [
        "chain = NakliLLMChain(llm, template)"
      ],
      "metadata": {
        "id": "RB_pfYqvE5mT"
      },
      "execution_count": 10,
      "outputs": []
    },
    {
      "cell_type": "code",
      "source": [
        "chain.run({'length':'short', 'topic': 'india'})"
      ],
      "metadata": {
        "colab": {
          "base_uri": "https://localhost:8080/",
          "height": 35
        },
        "id": "hQWSSazwE9DX",
        "outputId": "51383094-5902-4451-8022-7f7eab19ad63"
      },
      "execution_count": null,
      "outputs": [
        {
          "output_type": "execute_result",
          "data": {
            "text/plain": [
              "'AI stands for Artificial Intelligence'"
            ],
            "application/vnd.google.colaboratory.intrinsic+json": {
              "type": "string"
            }
          },
          "metadata": {},
          "execution_count": 27
        }
      ]
    },
    {
      "cell_type": "code",
      "source": [],
      "metadata": {
        "id": "JIZ6WOlEFA_h"
      },
      "execution_count": null,
      "outputs": []
    }
  ]
}